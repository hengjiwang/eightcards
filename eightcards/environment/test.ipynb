{
 "cells": [
  {
   "cell_type": "code",
   "execution_count": 1,
   "metadata": {},
   "outputs": [],
   "source": [
    "import sys\n",
    "sys.path.insert(0, '/home/hengji/Documents/eightcards/')\n",
    "\n",
    "\n",
    "from board import Board\n",
    "\n",
    "board = Board()\n",
    "board.init_board()"
   ]
  },
  {
   "cell_type": "code",
   "execution_count": 2,
   "metadata": {},
   "outputs": [
    {
     "data": {
      "text/plain": [
       "38"
      ]
     },
     "execution_count": 2,
     "metadata": {},
     "output_type": "execute_result"
    }
   ],
   "source": [
    "len(board.pile)"
   ]
  },
  {
   "cell_type": "code",
   "execution_count": 3,
   "metadata": {},
   "outputs": [
    {
     "name": "stdout",
     "output_type": "stream",
     "text": [
      "('Diamond', 12) ('Heart', 12) ('Diamond', 3) ('Heart', 1) ('Spade', 13) ('Diamond', 4) ('Diamond', 2) ('Heart', 6)\n"
     ]
    }
   ],
   "source": [
    "\n",
    "print(\" \".join(str(i) for i in board.players[1].hand)) "
   ]
  },
  {
   "cell_type": "code",
   "execution_count": 4,
   "metadata": {},
   "outputs": [
    {
     "data": {
      "text/plain": [
       "[('Club', 6),\n",
       " ('Club', 9),\n",
       " ('Spade', 11),\n",
       " ('Club', 1),\n",
       " ('Diamond', 6),\n",
       " ('Spade', 4),\n",
       " ('Club', 12),\n",
       " ('Club', 4)]"
      ]
     },
     "execution_count": 4,
     "metadata": {},
     "output_type": "execute_result"
    }
   ],
   "source": [
    "board.players[0].hand"
   ]
  },
  {
   "cell_type": "code",
   "execution_count": 5,
   "metadata": {},
   "outputs": [
    {
     "data": {
      "text/plain": [
       "[('Club', 6),\n",
       " ('Club', 9),\n",
       " ('Spade', 11),\n",
       " ('Club', 1),\n",
       " ('Diamond', 6),\n",
       " ('Spade', 4),\n",
       " ('Club', 12),\n",
       " ('Club', 4)]"
      ]
     },
     "execution_count": 5,
     "metadata": {},
     "output_type": "execute_result"
    }
   ],
   "source": [
    "board.defender.hand"
   ]
  },
  {
   "cell_type": "code",
   "execution_count": 6,
   "metadata": {},
   "outputs": [
    {
     "name": "stdout",
     "output_type": "stream",
     "text": [
      "You are now attacker. Your hand is:  \n",
      "\n",
      "('Diamond', 12) ('Heart', 12) ('Diamond', 3) ('Heart', 1) ('Spade', 13) ('Diamond', 4) ('Diamond', 2) ('Heart', 6)\n"
     ]
    },
    {
     "name": "stdin",
     "output_type": "stream",
     "text": [
      "\n",
      " Please use a card to attack (input 'stop' to stop attacking): stop\n"
     ]
    }
   ],
   "source": [
    "board.attack_action()"
   ]
  },
  {
   "cell_type": "code",
   "execution_count": 7,
   "metadata": {},
   "outputs": [
    {
     "data": {
      "text/plain": [
       "True"
      ]
     },
     "execution_count": 7,
     "metadata": {},
     "output_type": "execute_result"
    }
   ],
   "source": [
    "board.finish_turn"
   ]
  },
  {
   "cell_type": "code",
   "execution_count": 1,
   "metadata": {},
   "outputs": [],
   "source": [
    "from eightcards.environment.board import Board"
   ]
  }
 ],
 "metadata": {
  "file_extension": ".py",
  "kernelspec": {
   "display_name": "Python 3",
   "language": "python",
   "name": "python3"
  },
  "language_info": {
   "codemirror_mode": {
    "name": "ipython",
    "version": 3
   },
   "file_extension": ".py",
   "mimetype": "text/x-python",
   "name": "python",
   "nbconvert_exporter": "python",
   "pygments_lexer": "ipython3",
   "version": "3.7.3"
  },
  "mimetype": "text/x-python",
  "name": "python",
  "npconvert_exporter": "python",
  "pygments_lexer": "ipython3",
  "version": 3
 },
 "nbformat": 4,
 "nbformat_minor": 2
}
